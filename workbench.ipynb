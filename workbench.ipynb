{
 "cells": [
  {
   "cell_type": "code",
   "execution_count": null,
   "metadata": {},
   "outputs": [],
   "source": [
    "import board\n",
    "import digitalio\n",
    "\n",
    "pins = [board.GP4, board.GP5, board.GP6]\n",
    "ENC, RED, BLUE = [digitalio.DigitalInOut(pin) for pin in pins]\n",
    "\n",
    "for button in [ENC, RED, BLUE]:\n",
    "    button.switch_to_input(digitalio.Pull.UP)\n",
    "\n",
    "while True:\n",
    "    if not ENC.value:\n",
    "        print(ENC.value)\n",
    "        break\n",
    "    \n",
    "for button in [ENC, RED, BLUE]:\n",
    "    button.deinit()\n"
   ]
  },
  {
   "cell_type": "code",
   "execution_count": null,
   "metadata": {},
   "outputs": [],
   "source": [
    "import board\n",
    "import rotaryio\n",
    "import digitalio\n",
    "\n",
    "ENC = digitalio.DigitalInOut(board.GP4)\n",
    "ENC.switch_to_input(digitalio.Pull.UP)\n",
    "\n",
    "rotopins = [board.GP2, board.GP3]\n",
    "encoder = rotaryio.IncrementalEncoder(rotopins[0], rotopins[1])\n",
    "last_position = None\n",
    "\n",
    "while True:\n",
    "    position = encoder.position\n",
    "    if last_position is None or position != last_position:\n",
    "        print(f\"position: {position}\")\n",
    "        last_position = position\n",
    "    \n",
    "    if not ENC.value:\n",
    "        break\n",
    "\n",
    "encoder.deinit()\n",
    "ENC.deinit()"
   ]
  },
  {
   "cell_type": "code",
   "execution_count": 4,
   "metadata": {},
   "outputs": [],
   "source": [
    "import board\n",
    "import busio\n",
    "import rotaryio\n",
    "import digitalio\n",
    "import time\n",
    "from lcd import LCD\n",
    "from i2c_pcf8574_interface import I2CPCF8574Interface\n",
    "\n",
    "lcd_i2c = busio.I2C(board.GP1, board.GP0)\n",
    "pcf_interface = I2CPCF8574Interface(lcd_i2c, 0x27)\n",
    "lcd = LCD(pcf_interface, num_rows=2, num_cols=16)\n",
    "\n",
    "# Initialize rotary encoder and buttons\n",
    "iopins = (board.GP2, board.GP3, board.GP4, board.GP5, board.GP6)\n",
    "encoder = rotaryio.IncrementalEncoder(iopins[0], iopins[1])\n",
    "last_position = None\n",
    "ENC, RED, BLUE = (digitalio.DigitalInOut(pin) for pin in iopins[2:5])\n",
    "for button in [ENC, RED, BLUE]:\n",
    "    button.switch_to_input(digitalio.Pull.UP)\n",
    "\n",
    "def display_message(message):\n",
    "    lcd.clear()\n",
    "    lcd.print(message)\n",
    "\n",
    "\"\"\"\"\"\"\n",
    "\n",
    "while True:\n",
    "    position = encoder.position\n",
    "    if last_position is None or position != last_position:\n",
    "        display_message(str(position))\n",
    "        last_position = position\n",
    "    \n",
    "    if not ENC.value:\n",
    "        break\n",
    "\n",
    "for button in [ENC, RED, BLUE]:\n",
    "    button.deinit()\n",
    "encoder.deinit()\n",
    "lcd_i2c.deinit()\n"
   ]
  }
 ],
 "metadata": {
  "kernelspec": {
   "display_name": "CircuitPython",
   "language": "python",
   "name": "circuitpython"
  },
  "language_info": {
   "codemirror_mode": {
    "name": "python",
    "version": 3
   },
   "file_extension": ".py",
   "mimetype": "text/x-python",
   "name": "python",
   "pygments_lexer": "python3",
   "version": "3.10.11"
  },
  "orig_nbformat": 4
 },
 "nbformat": 4,
 "nbformat_minor": 2
}
