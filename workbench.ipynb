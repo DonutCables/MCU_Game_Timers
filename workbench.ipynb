{
 "cells": [
  {
   "cell_type": "code",
   "execution_count": 13,
   "metadata": {},
   "outputs": [
    {
     "name": "stderr",
     "output_type": "stream",
     "text": [
      "Traceback (most recent call last):\n",
      "  File \"<stdin>\", line 4, in <module>\n",
      "ValueError: GP2 in use\n"
     ]
    }
   ],
   "source": [
    "import board\n",
    "import rotaryio\n",
    "import digitalio\n",
    "\n",
    "ENC = board.GP4\n",
    "RED = board.GP5\n",
    "BLUE = board.GP6\n",
    "\n",
    "buttons = {digitalio.DigitalInOut(x).switch_to_input(digitalio.Pull.UP) for x in [ENC, RED, BLUE]}\n",
    "print(buttons)\n"
   ]
  }
 ],
 "metadata": {
  "kernelspec": {
   "display_name": "CircuitPython",
   "language": "python",
   "name": "circuitpython"
  },
  "language_info": {
   "codemirror_mode": {
    "name": "python",
    "version": 3
   },
   "file_extension": ".py",
   "mimetype": "text/x-python",
   "name": "python",
   "pygments_lexer": "python3",
   "version": "3"
  },
  "orig_nbformat": 4
 },
 "nbformat": 4,
 "nbformat_minor": 2
}
